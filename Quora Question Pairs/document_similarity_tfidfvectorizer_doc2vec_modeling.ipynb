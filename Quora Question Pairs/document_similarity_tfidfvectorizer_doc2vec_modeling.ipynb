{
  "metadata": {
    "kernelspec": {
      "language": "python",
      "display_name": "Python 3",
      "name": "python3"
    },
    "language_info": {
      "name": "python",
      "version": "3.6.6",
      "mimetype": "text/x-python",
      "codemirror_mode": {
        "name": "ipython",
        "version": 3
      },
      "pygments_lexer": "ipython3",
      "nbconvert_exporter": "python",
      "file_extension": ".py"
    },
    "colab": {
      "name": "eda-document-similarity-word2vec-modeling.ipynb",
      "provenance": []
    }
  },
  "nbformat_minor": 0,
  "nbformat": 4,
  "cells": [
    {
      "cell_type": "markdown",
      "source": [
        "# Predicting Similar Questions"
      ],
      "metadata": {
        "_cell_guid": "ef6f5b13-18f7-21c0-4bbc-40f3f884b4b5",
        "id": "-fbKufN-SqSq"
      }
    },
    {
      "cell_type": "markdown",
      "source": [
        "The objective of this analysis is to use different Natural Language Processing methods to predict if pairs of questions have the same meaning. The data is from Quora and hosted on Kaggle: https://www.kaggle.com/quora/question-pairs-dataset. The sections of this analysis include:\n",
        "- Transforming the text\n",
        "- Method 1: TfidfVectorizer \n",
        "- Method 2: Doc2Vec"
      ],
      "metadata": {
        "_cell_guid": "ccd13167-9f2a-8d3b-99e6-f32447bb3286",
        "id": "4G7IgP4TSqSt"
      }
    },
    {
      "cell_type": "code",
      "source": [
        "import pandas as pd\n",
        "import numpy as np\n",
        "import nltk\n",
        "from nltk.corpus import stopwords\n",
        "from nltk.stem import SnowballStemmer\n",
        "import re\n",
        "from gensim import utils\n",
        "from gensim.models.doc2vec import LabeledSentence\n",
        "from gensim.models import Doc2Vec\n",
        "from sklearn.metrics.pairwise import cosine_similarity\n",
        "from sklearn.feature_extraction.text import TfidfVectorizer\n",
        "from sklearn.metrics import accuracy_score\n",
        "from sklearn.metrics import confusion_matrix\n",
        "from sklearn.metrics import classification_report\n",
        "import matplotlib.pyplot as plt"
      ],
      "metadata": {
        "_cell_guid": "bb195f9c-1578-e37e-4be4-b05d8e3b54ba",
        "execution": {
          "iopub.status.busy": "2022-06-29T16:10:34.591900Z",
          "iopub.execute_input": "2022-06-29T16:10:34.592452Z",
          "iopub.status.idle": "2022-06-29T16:10:37.800298Z",
          "shell.execute_reply.started": "2022-06-29T16:10:34.592380Z",
          "shell.execute_reply": "2022-06-29T16:10:37.799156Z"
        },
        "trusted": true,
        "id": "hfKOJQpVSqSu"
      },
      "execution_count": 1,
      "outputs": []
    },
    {
      "cell_type": "code",
      "source": [
        "!unzip '/content/questions.csv.zip'"
      ],
      "metadata": {
        "execution": {
          "iopub.status.busy": "2022-06-29T16:10:37.802524Z",
          "iopub.execute_input": "2022-06-29T16:10:37.802937Z",
          "iopub.status.idle": "2022-06-29T16:10:39.439347Z",
          "shell.execute_reply.started": "2022-06-29T16:10:37.802865Z",
          "shell.execute_reply": "2022-06-29T16:10:39.438261Z"
        },
        "trusted": true,
        "colab": {
          "base_uri": "https://localhost:8080/"
        },
        "id": "hpbAebMNSqSw",
        "outputId": "3af364cc-e229-4eff-9840-e9de8d9f5c2e"
      },
      "execution_count": 2,
      "outputs": [
        {
          "output_type": "stream",
          "name": "stdout",
          "text": [
            "Archive:  /content/questions.csv.zip\n",
            "  inflating: questions.csv           \n"
          ]
        }
      ]
    },
    {
      "cell_type": "code",
      "source": [
        "df = pd.read_csv(\"/content/questions.csv.zip\")"
      ],
      "metadata": {
        "_cell_guid": "bb8285d2-aeb1-8720-3b87-169b1be959a0",
        "execution": {
          "iopub.status.busy": "2022-06-29T16:10:41.054360Z",
          "iopub.execute_input": "2022-06-29T16:10:41.054712Z",
          "iopub.status.idle": "2022-06-29T16:10:42.817587Z",
          "shell.execute_reply.started": "2022-06-29T16:10:41.054659Z",
          "shell.execute_reply": "2022-06-29T16:10:42.816398Z"
        },
        "trusted": true,
        "id": "CE_IdXFdSqSw"
      },
      "execution_count": 3,
      "outputs": []
    },
    {
      "cell_type": "code",
      "source": [
        "# Use the full dataset on your personal computer.\n",
        "# I'm using a fraction so that it doesn't time out when uploading.\n",
        "df = df[0:40000]"
      ],
      "metadata": {
        "_cell_guid": "db62bd83-cf15-15b1-25ad-b036c2f8882c",
        "execution": {
          "iopub.status.busy": "2022-06-29T16:10:42.978560Z",
          "iopub.execute_input": "2022-06-29T16:10:42.978918Z",
          "iopub.status.idle": "2022-06-29T16:10:42.984087Z",
          "shell.execute_reply.started": "2022-06-29T16:10:42.978859Z",
          "shell.execute_reply": "2022-06-29T16:10:42.982943Z"
        },
        "trusted": true,
        "id": "xQREPl2_SqSx"
      },
      "execution_count": 4,
      "outputs": []
    },
    {
      "cell_type": "code",
      "source": [
        "df.head(10)"
      ],
      "metadata": {
        "_cell_guid": "def4f929-5770-91e3-e02b-5baf882e8b31",
        "execution": {
          "iopub.status.busy": "2022-06-29T16:10:43.992662Z",
          "iopub.execute_input": "2022-06-29T16:10:43.992966Z",
          "iopub.status.idle": "2022-06-29T16:10:44.027738Z",
          "shell.execute_reply.started": "2022-06-29T16:10:43.992919Z",
          "shell.execute_reply": "2022-06-29T16:10:44.026774Z"
        },
        "trusted": true,
        "colab": {
          "base_uri": "https://localhost:8080/",
          "height": 363
        },
        "id": "SMZ8YAmxSqSx",
        "outputId": "0766ba29-abb4-496d-c593-48f443d1c1c8"
      },
      "execution_count": 5,
      "outputs": [
        {
          "output_type": "execute_result",
          "data": {
            "text/plain": [
              "   id  qid1  qid2                                          question1  \\\n",
              "0   0     1     2  What is the step by step guide to invest in sh...   \n",
              "1   1     3     4  What is the story of Kohinoor (Koh-i-Noor) Dia...   \n",
              "2   2     5     6  How can I increase the speed of my internet co...   \n",
              "3   3     7     8  Why am I mentally very lonely? How can I solve...   \n",
              "4   4     9    10  Which one dissolve in water quikly sugar, salt...   \n",
              "5   5    11    12  Astrology: I am a Capricorn Sun Cap moon and c...   \n",
              "6   6    13    14                                Should I buy tiago?   \n",
              "7   7    15    16                     How can I be a good geologist?   \n",
              "8   8    17    18                    When do you use シ instead of し?   \n",
              "9   9    19    20  Motorola (company): Can I hack my Charter Moto...   \n",
              "\n",
              "                                           question2  is_duplicate  \n",
              "0  What is the step by step guide to invest in sh...             0  \n",
              "1  What would happen if the Indian government sto...             0  \n",
              "2  How can Internet speed be increased by hacking...             0  \n",
              "3  Find the remainder when [math]23^{24}[/math] i...             0  \n",
              "4            Which fish would survive in salt water?             0  \n",
              "5  I'm a triple Capricorn (Sun, Moon and ascendan...             1  \n",
              "6  What keeps childern active and far from phone ...             0  \n",
              "7          What should I do to be a great geologist?             1  \n",
              "8              When do you use \"&\" instead of \"and\"?             0  \n",
              "9  How do I hack Motorola DCX3400 for free internet?             0  "
            ],
            "text/html": [
              "\n",
              "  <div id=\"df-c0941f74-fedf-422a-9ef4-001dd8494770\">\n",
              "    <div class=\"colab-df-container\">\n",
              "      <div>\n",
              "<style scoped>\n",
              "    .dataframe tbody tr th:only-of-type {\n",
              "        vertical-align: middle;\n",
              "    }\n",
              "\n",
              "    .dataframe tbody tr th {\n",
              "        vertical-align: top;\n",
              "    }\n",
              "\n",
              "    .dataframe thead th {\n",
              "        text-align: right;\n",
              "    }\n",
              "</style>\n",
              "<table border=\"1\" class=\"dataframe\">\n",
              "  <thead>\n",
              "    <tr style=\"text-align: right;\">\n",
              "      <th></th>\n",
              "      <th>id</th>\n",
              "      <th>qid1</th>\n",
              "      <th>qid2</th>\n",
              "      <th>question1</th>\n",
              "      <th>question2</th>\n",
              "      <th>is_duplicate</th>\n",
              "    </tr>\n",
              "  </thead>\n",
              "  <tbody>\n",
              "    <tr>\n",
              "      <th>0</th>\n",
              "      <td>0</td>\n",
              "      <td>1</td>\n",
              "      <td>2</td>\n",
              "      <td>What is the step by step guide to invest in sh...</td>\n",
              "      <td>What is the step by step guide to invest in sh...</td>\n",
              "      <td>0</td>\n",
              "    </tr>\n",
              "    <tr>\n",
              "      <th>1</th>\n",
              "      <td>1</td>\n",
              "      <td>3</td>\n",
              "      <td>4</td>\n",
              "      <td>What is the story of Kohinoor (Koh-i-Noor) Dia...</td>\n",
              "      <td>What would happen if the Indian government sto...</td>\n",
              "      <td>0</td>\n",
              "    </tr>\n",
              "    <tr>\n",
              "      <th>2</th>\n",
              "      <td>2</td>\n",
              "      <td>5</td>\n",
              "      <td>6</td>\n",
              "      <td>How can I increase the speed of my internet co...</td>\n",
              "      <td>How can Internet speed be increased by hacking...</td>\n",
              "      <td>0</td>\n",
              "    </tr>\n",
              "    <tr>\n",
              "      <th>3</th>\n",
              "      <td>3</td>\n",
              "      <td>7</td>\n",
              "      <td>8</td>\n",
              "      <td>Why am I mentally very lonely? How can I solve...</td>\n",
              "      <td>Find the remainder when [math]23^{24}[/math] i...</td>\n",
              "      <td>0</td>\n",
              "    </tr>\n",
              "    <tr>\n",
              "      <th>4</th>\n",
              "      <td>4</td>\n",
              "      <td>9</td>\n",
              "      <td>10</td>\n",
              "      <td>Which one dissolve in water quikly sugar, salt...</td>\n",
              "      <td>Which fish would survive in salt water?</td>\n",
              "      <td>0</td>\n",
              "    </tr>\n",
              "    <tr>\n",
              "      <th>5</th>\n",
              "      <td>5</td>\n",
              "      <td>11</td>\n",
              "      <td>12</td>\n",
              "      <td>Astrology: I am a Capricorn Sun Cap moon and c...</td>\n",
              "      <td>I'm a triple Capricorn (Sun, Moon and ascendan...</td>\n",
              "      <td>1</td>\n",
              "    </tr>\n",
              "    <tr>\n",
              "      <th>6</th>\n",
              "      <td>6</td>\n",
              "      <td>13</td>\n",
              "      <td>14</td>\n",
              "      <td>Should I buy tiago?</td>\n",
              "      <td>What keeps childern active and far from phone ...</td>\n",
              "      <td>0</td>\n",
              "    </tr>\n",
              "    <tr>\n",
              "      <th>7</th>\n",
              "      <td>7</td>\n",
              "      <td>15</td>\n",
              "      <td>16</td>\n",
              "      <td>How can I be a good geologist?</td>\n",
              "      <td>What should I do to be a great geologist?</td>\n",
              "      <td>1</td>\n",
              "    </tr>\n",
              "    <tr>\n",
              "      <th>8</th>\n",
              "      <td>8</td>\n",
              "      <td>17</td>\n",
              "      <td>18</td>\n",
              "      <td>When do you use シ instead of し?</td>\n",
              "      <td>When do you use \"&amp;\" instead of \"and\"?</td>\n",
              "      <td>0</td>\n",
              "    </tr>\n",
              "    <tr>\n",
              "      <th>9</th>\n",
              "      <td>9</td>\n",
              "      <td>19</td>\n",
              "      <td>20</td>\n",
              "      <td>Motorola (company): Can I hack my Charter Moto...</td>\n",
              "      <td>How do I hack Motorola DCX3400 for free internet?</td>\n",
              "      <td>0</td>\n",
              "    </tr>\n",
              "  </tbody>\n",
              "</table>\n",
              "</div>\n",
              "      <button class=\"colab-df-convert\" onclick=\"convertToInteractive('df-c0941f74-fedf-422a-9ef4-001dd8494770')\"\n",
              "              title=\"Convert this dataframe to an interactive table.\"\n",
              "              style=\"display:none;\">\n",
              "        \n",
              "  <svg xmlns=\"http://www.w3.org/2000/svg\" height=\"24px\"viewBox=\"0 0 24 24\"\n",
              "       width=\"24px\">\n",
              "    <path d=\"M0 0h24v24H0V0z\" fill=\"none\"/>\n",
              "    <path d=\"M18.56 5.44l.94 2.06.94-2.06 2.06-.94-2.06-.94-.94-2.06-.94 2.06-2.06.94zm-11 1L8.5 8.5l.94-2.06 2.06-.94-2.06-.94L8.5 2.5l-.94 2.06-2.06.94zm10 10l.94 2.06.94-2.06 2.06-.94-2.06-.94-.94-2.06-.94 2.06-2.06.94z\"/><path d=\"M17.41 7.96l-1.37-1.37c-.4-.4-.92-.59-1.43-.59-.52 0-1.04.2-1.43.59L10.3 9.45l-7.72 7.72c-.78.78-.78 2.05 0 2.83L4 21.41c.39.39.9.59 1.41.59.51 0 1.02-.2 1.41-.59l7.78-7.78 2.81-2.81c.8-.78.8-2.07 0-2.86zM5.41 20L4 18.59l7.72-7.72 1.47 1.35L5.41 20z\"/>\n",
              "  </svg>\n",
              "      </button>\n",
              "      \n",
              "  <style>\n",
              "    .colab-df-container {\n",
              "      display:flex;\n",
              "      flex-wrap:wrap;\n",
              "      gap: 12px;\n",
              "    }\n",
              "\n",
              "    .colab-df-convert {\n",
              "      background-color: #E8F0FE;\n",
              "      border: none;\n",
              "      border-radius: 50%;\n",
              "      cursor: pointer;\n",
              "      display: none;\n",
              "      fill: #1967D2;\n",
              "      height: 32px;\n",
              "      padding: 0 0 0 0;\n",
              "      width: 32px;\n",
              "    }\n",
              "\n",
              "    .colab-df-convert:hover {\n",
              "      background-color: #E2EBFA;\n",
              "      box-shadow: 0px 1px 2px rgba(60, 64, 67, 0.3), 0px 1px 3px 1px rgba(60, 64, 67, 0.15);\n",
              "      fill: #174EA6;\n",
              "    }\n",
              "\n",
              "    [theme=dark] .colab-df-convert {\n",
              "      background-color: #3B4455;\n",
              "      fill: #D2E3FC;\n",
              "    }\n",
              "\n",
              "    [theme=dark] .colab-df-convert:hover {\n",
              "      background-color: #434B5C;\n",
              "      box-shadow: 0px 1px 3px 1px rgba(0, 0, 0, 0.15);\n",
              "      filter: drop-shadow(0px 1px 2px rgba(0, 0, 0, 0.3));\n",
              "      fill: #FFFFFF;\n",
              "    }\n",
              "  </style>\n",
              "\n",
              "      <script>\n",
              "        const buttonEl =\n",
              "          document.querySelector('#df-c0941f74-fedf-422a-9ef4-001dd8494770 button.colab-df-convert');\n",
              "        buttonEl.style.display =\n",
              "          google.colab.kernel.accessAllowed ? 'block' : 'none';\n",
              "\n",
              "        async function convertToInteractive(key) {\n",
              "          const element = document.querySelector('#df-c0941f74-fedf-422a-9ef4-001dd8494770');\n",
              "          const dataTable =\n",
              "            await google.colab.kernel.invokeFunction('convertToInteractive',\n",
              "                                                     [key], {});\n",
              "          if (!dataTable) return;\n",
              "\n",
              "          const docLinkHtml = 'Like what you see? Visit the ' +\n",
              "            '<a target=\"_blank\" href=https://colab.research.google.com/notebooks/data_table.ipynb>data table notebook</a>'\n",
              "            + ' to learn more about interactive tables.';\n",
              "          element.innerHTML = '';\n",
              "          dataTable['output_type'] = 'display_data';\n",
              "          await google.colab.output.renderOutput(dataTable, element);\n",
              "          const docLink = document.createElement('div');\n",
              "          docLink.innerHTML = docLinkHtml;\n",
              "          element.appendChild(docLink);\n",
              "        }\n",
              "      </script>\n",
              "    </div>\n",
              "  </div>\n",
              "  "
            ]
          },
          "metadata": {},
          "execution_count": 5
        }
      ]
    },
    {
      "cell_type": "code",
      "source": [
        "df.isnull().sum()"
      ],
      "metadata": {
        "_cell_guid": "3182574f-aef6-4ff3-6f73-a0da9ed563ae",
        "execution": {
          "iopub.status.busy": "2022-06-29T16:10:44.297822Z",
          "iopub.execute_input": "2022-06-29T16:10:44.298121Z",
          "iopub.status.idle": "2022-06-29T16:10:44.320889Z",
          "shell.execute_reply.started": "2022-06-29T16:10:44.298082Z",
          "shell.execute_reply": "2022-06-29T16:10:44.319769Z"
        },
        "trusted": true,
        "colab": {
          "base_uri": "https://localhost:8080/"
        },
        "id": "57rXUBHVSqSx",
        "outputId": "05f9a682-a0e7-4fa4-bd31-1aec57411444"
      },
      "execution_count": 6,
      "outputs": [
        {
          "output_type": "execute_result",
          "data": {
            "text/plain": [
              "id              0\n",
              "qid1            0\n",
              "qid2            0\n",
              "question1       0\n",
              "question2       0\n",
              "is_duplicate    0\n",
              "dtype: int64"
            ]
          },
          "metadata": {},
          "execution_count": 6
        }
      ]
    },
    {
      "cell_type": "code",
      "source": [
        "df.is_duplicate.value_counts()"
      ],
      "metadata": {
        "_cell_guid": "35c44a8f-30b8-885f-3421-7ed91103c006",
        "execution": {
          "iopub.status.busy": "2022-06-29T16:10:44.885418Z",
          "iopub.execute_input": "2022-06-29T16:10:44.885762Z",
          "iopub.status.idle": "2022-06-29T16:10:44.900150Z",
          "shell.execute_reply.started": "2022-06-29T16:10:44.885710Z",
          "shell.execute_reply": "2022-06-29T16:10:44.898711Z"
        },
        "trusted": true,
        "colab": {
          "base_uri": "https://localhost:8080/"
        },
        "id": "JOY7mtR3SqSy",
        "outputId": "0cf9260e-e3d3-4c34-d17a-ad43d940098d"
      },
      "execution_count": 7,
      "outputs": [
        {
          "output_type": "execute_result",
          "data": {
            "text/plain": [
              "0    25109\n",
              "1    14891\n",
              "Name: is_duplicate, dtype: int64"
            ]
          },
          "metadata": {},
          "execution_count": 7
        }
      ]
    },
    {
      "cell_type": "code",
      "source": [
        "25109/len(df)"
      ],
      "metadata": {
        "_cell_guid": "0c16a6f4-0a3c-c8b4-253f-26d415999b2a",
        "execution": {
          "iopub.status.busy": "2022-06-29T16:10:45.164524Z",
          "iopub.execute_input": "2022-06-29T16:10:45.165040Z",
          "iopub.status.idle": "2022-06-29T16:10:45.172313Z",
          "shell.execute_reply.started": "2022-06-29T16:10:45.164974Z",
          "shell.execute_reply": "2022-06-29T16:10:45.171227Z"
        },
        "trusted": true,
        "colab": {
          "base_uri": "https://localhost:8080/"
        },
        "id": "aAwX9rXaSqSy",
        "outputId": "1e14b968-2ece-4302-fb63-4ef5cad07d4b"
      },
      "execution_count": 8,
      "outputs": [
        {
          "output_type": "execute_result",
          "data": {
            "text/plain": [
              "0.627725"
            ]
          },
          "metadata": {},
          "execution_count": 8
        }
      ]
    },
    {
      "cell_type": "markdown",
      "source": [
        "Although accuracy won't be as good of a performance metric as F1, it's still good to establish some sort of a baseline. In this case, 62.8% will be our baseline for accuracy."
      ],
      "metadata": {
        "_cell_guid": "c11a54cc-3445-257f-8929-8af9d2092445",
        "id": "fdygmbA7SqSy"
      }
    },
    {
      "cell_type": "code",
      "source": [
        "# Take a look at some of the question pairs.\n",
        "print(\"Not duplicate:\")\n",
        "print(df.question1[0])\n",
        "print(df.question2[0])\n",
        "print()\n",
        "print(\"Not duplicate:\")\n",
        "print(df.question1[1])\n",
        "print(df.question2[1])\n",
        "print()\n",
        "print(\"Is duplicate:\")\n",
        "print(df.question1[5])\n",
        "print(df.question2[5])"
      ],
      "metadata": {
        "_cell_guid": "d7ca166a-72d8-df36-d72e-271e9cf657c2",
        "execution": {
          "iopub.status.busy": "2022-06-29T16:10:46.264893Z",
          "iopub.execute_input": "2022-06-29T16:10:46.265208Z",
          "iopub.status.idle": "2022-06-29T16:10:46.277796Z",
          "shell.execute_reply.started": "2022-06-29T16:10:46.265160Z",
          "shell.execute_reply": "2022-06-29T16:10:46.276797Z"
        },
        "trusted": true,
        "colab": {
          "base_uri": "https://localhost:8080/"
        },
        "id": "RUPsNDizSqSz",
        "outputId": "534fd117-53fa-40a6-d991-f1c4206174ad"
      },
      "execution_count": 9,
      "outputs": [
        {
          "output_type": "stream",
          "name": "stdout",
          "text": [
            "Not duplicate:\n",
            "What is the step by step guide to invest in share market in india?\n",
            "What is the step by step guide to invest in share market?\n",
            "\n",
            "Not duplicate:\n",
            "What is the story of Kohinoor (Koh-i-Noor) Diamond?\n",
            "What would happen if the Indian government stole the Kohinoor (Koh-i-Noor) diamond back?\n",
            "\n",
            "Is duplicate:\n",
            "Astrology: I am a Capricorn Sun Cap moon and cap rising...what does that say about me?\n",
            "I'm a triple Capricorn (Sun, Moon and ascendant in Capricorn) What does this say about me?\n"
          ]
        }
      ]
    },
    {
      "cell_type": "markdown",
      "source": [
        "This task looks like it will be a little difficult since the first pair of questions have very similar wordings but different meanings, and the third pair have less similar wordings but the same meaning."
      ],
      "metadata": {
        "_cell_guid": "c8e4b33a-9e11-336e-d325-95fecef2287a",
        "id": "FJ14t3G3SqSz"
      }
    },
    {
      "cell_type": "code",
      "source": [
        "def review_to_wordlist(review, remove_stopwords=False):\n",
        "    # Clean the text, with the option to remove stopwords.\n",
        "    \n",
        "    # Convert words to lower case and split them\n",
        "    words = review.lower().split()\n",
        "\n",
        "    # Optionally remove stop words (true by default)\n",
        "    #if remove_stopwords:\n",
        "    #    stops = set(stopwords.words(\"english\"))\n",
        "    #    words = [w for w in words if not w in stops]\n",
        "    \n",
        "    review_text = \" \".join(words)\n",
        "\n",
        "    # Clean the text\n",
        "    review_text = re.sub(r\"[^A-Za-z0-9(),!.?\\'\\`]\", \" \", review_text)\n",
        "    review_text = re.sub(r\"\\'s\", \" 's \", review_text)\n",
        "    review_text = re.sub(r\"\\'ve\", \" 've \", review_text)\n",
        "    review_text = re.sub(r\"n\\'t\", \" 't \", review_text)\n",
        "    review_text = re.sub(r\"\\'re\", \" 're \", review_text)\n",
        "    review_text = re.sub(r\"\\'d\", \" 'd \", review_text)\n",
        "    review_text = re.sub(r\"\\'ll\", \" 'll \", review_text)\n",
        "    review_text = re.sub(r\",\", \" \", review_text)\n",
        "    review_text = re.sub(r\"\\.\", \" \", review_text)\n",
        "    review_text = re.sub(r\"!\", \" \", review_text)\n",
        "    review_text = re.sub(r\"\\(\", \" ( \", review_text)\n",
        "    review_text = re.sub(r\"\\)\", \" ) \", review_text)\n",
        "    review_text = re.sub(r\"\\?\", \" \", review_text)\n",
        "    review_text = re.sub(r\"\\s{2,}\", \" \", review_text)\n",
        "    \n",
        "    words = review_text.split()\n",
        "    \n",
        "    # Shorten words to their stems\n",
        "    stemmer = SnowballStemmer('english')\n",
        "    stemmed_words = [stemmer.stem(word) for word in words]\n",
        "    \n",
        "    review_text = \" \".join(stemmed_words)\n",
        "    \n",
        "    # Return a list of words\n",
        "    return(review_text)"
      ],
      "metadata": {
        "_cell_guid": "6f1d3ec5-c78a-6675-fda3-6ada4339ada9",
        "execution": {
          "iopub.status.busy": "2022-06-29T16:10:47.282910Z",
          "iopub.execute_input": "2022-06-29T16:10:47.283573Z",
          "iopub.status.idle": "2022-06-29T16:10:47.297926Z",
          "shell.execute_reply.started": "2022-06-29T16:10:47.283500Z",
          "shell.execute_reply": "2022-06-29T16:10:47.296987Z"
        },
        "trusted": true,
        "id": "JY6g2JzbSqSz"
      },
      "execution_count": 10,
      "outputs": []
    },
    {
      "cell_type": "code",
      "source": [
        "def process_questions(question_list, questions, question_list_name):\n",
        "# function to transform questions and display progress\n",
        "    for question in questions:\n",
        "        question_list.append(review_to_wordlist(question))\n",
        "        if len(question_list) % 10000 == 0:\n",
        "            progress = len(question_list)/len(df) * 100\n",
        "            print(\"{} is {}% complete.\".format(question_list_name, round(progress, 1)))"
      ],
      "metadata": {
        "_cell_guid": "f8ef3145-5c43-781c-4097-bdb3a19158ad",
        "execution": {
          "iopub.status.busy": "2022-06-29T16:10:47.890338Z",
          "iopub.execute_input": "2022-06-29T16:10:47.891051Z",
          "iopub.status.idle": "2022-06-29T16:10:47.899078Z",
          "shell.execute_reply.started": "2022-06-29T16:10:47.890663Z",
          "shell.execute_reply": "2022-06-29T16:10:47.898347Z"
        },
        "trusted": true,
        "id": "P5YYoNT0SqS0"
      },
      "execution_count": 11,
      "outputs": []
    },
    {
      "cell_type": "code",
      "source": [
        "questions1 = []     \n",
        "process_questions(questions1, df.question1, \"questions1\")\n",
        "print()\n",
        "questions2 = []     \n",
        "process_questions(questions2, df.question2, \"questions2\")"
      ],
      "metadata": {
        "_cell_guid": "24775bc7-a4b2-facd-e401-499575816c0a",
        "execution": {
          "iopub.status.busy": "2022-06-29T16:10:48.486305Z",
          "iopub.execute_input": "2022-06-29T16:10:48.487024Z",
          "iopub.status.idle": "2022-06-29T16:11:04.734689Z",
          "shell.execute_reply.started": "2022-06-29T16:10:48.486936Z",
          "shell.execute_reply": "2022-06-29T16:11:04.733578Z"
        },
        "trusted": true,
        "colab": {
          "base_uri": "https://localhost:8080/"
        },
        "id": "Kahr8QbHSqS1",
        "outputId": "f688e793-64f2-437e-9515-f4bc980ce05c"
      },
      "execution_count": 12,
      "outputs": [
        {
          "output_type": "stream",
          "name": "stdout",
          "text": [
            "questions1 is 25.0% complete.\n",
            "questions1 is 50.0% complete.\n",
            "questions1 is 75.0% complete.\n",
            "questions1 is 100.0% complete.\n",
            "\n",
            "questions2 is 25.0% complete.\n",
            "questions2 is 50.0% complete.\n",
            "questions2 is 75.0% complete.\n",
            "questions2 is 100.0% complete.\n"
          ]
        }
      ]
    },
    {
      "cell_type": "code",
      "source": [
        "# Take a look at some of the processed questions.\n",
        "for i in range(5):\n",
        "    print(questions1[i])\n",
        "    print(questions2[i])\n",
        "    print()"
      ],
      "metadata": {
        "_cell_guid": "452c2930-1da6-47e0-8962-28f87071eebe",
        "execution": {
          "iopub.status.busy": "2022-06-29T16:11:04.737435Z",
          "iopub.execute_input": "2022-06-29T16:11:04.738040Z",
          "iopub.status.idle": "2022-06-29T16:11:04.746344Z",
          "shell.execute_reply.started": "2022-06-29T16:11:04.737958Z",
          "shell.execute_reply": "2022-06-29T16:11:04.744108Z"
        },
        "trusted": true,
        "colab": {
          "base_uri": "https://localhost:8080/"
        },
        "id": "GcDFVCBLSqS1",
        "outputId": "4e17af52-7ade-4f6e-d724-6171047bba91"
      },
      "execution_count": 13,
      "outputs": [
        {
          "output_type": "stream",
          "name": "stdout",
          "text": [
            "what is the step by step guid to invest in share market in india\n",
            "what is the step by step guid to invest in share market\n",
            "\n",
            "what is the stori of kohinoor ( koh i noor ) diamond\n",
            "what would happen if the indian govern stole the kohinoor ( koh i noor ) diamond back\n",
            "\n",
            "how can i increas the speed of my internet connect while use a vpn\n",
            "how can internet speed be increas by hack through dns\n",
            "\n",
            "whi am i mental veri lone how can i solv it\n",
            "find the remaind when math 23 24 math is divid by 24 23\n",
            "\n",
            "which one dissolv in water quik sugar salt methan and carbon di oxid\n",
            "which fish would surviv in salt water\n",
            "\n"
          ]
        }
      ]
    },
    {
      "cell_type": "code",
      "source": [
        "# Stores the indices of unusable questions\n",
        "invalid_questions = []\n",
        "for i in range(len(questions1)):\n",
        "    # questions need to contain a vowel (which should be part of a full word) to be valid\n",
        "    if not re.search('[aeiouyAEIOUY]', questions1[i]) or not re.search('[aeiouyAEIOUY]', questions2[i]):\n",
        "    # Need to subtract 'len(invalid_questions)' to adjust for the changing index values as questions are removed.\n",
        "        invalid_questions.append(i-len(invalid_questions))\n",
        "print(len(invalid_questions))"
      ],
      "metadata": {
        "_cell_guid": "d816fea4-fe50-509d-3d50-0f56cde1c812",
        "execution": {
          "iopub.status.busy": "2022-06-29T16:11:15.655633Z",
          "iopub.execute_input": "2022-06-29T16:11:15.655926Z",
          "iopub.status.idle": "2022-06-29T16:11:15.796974Z",
          "shell.execute_reply.started": "2022-06-29T16:11:15.655888Z",
          "shell.execute_reply": "2022-06-29T16:11:15.796118Z"
        },
        "trusted": true,
        "colab": {
          "base_uri": "https://localhost:8080/"
        },
        "id": "Ul2AezaRSqS1",
        "outputId": "e264004e-e4cc-4540-ebd6-93f397f8ab0a"
      },
      "execution_count": 14,
      "outputs": [
        {
          "output_type": "stream",
          "name": "stdout",
          "text": [
            "8\n"
          ]
        }
      ]
    },
    {
      "cell_type": "code",
      "source": [
        "# list of invalid questions\n",
        "invalid_questions"
      ],
      "metadata": {
        "_cell_guid": "773c4ac9-f657-61d3-b9e0-301fe047fffc",
        "execution": {
          "iopub.status.busy": "2022-06-29T16:11:15.975869Z",
          "iopub.execute_input": "2022-06-29T16:11:15.976394Z",
          "iopub.status.idle": "2022-06-29T16:11:15.983896Z",
          "shell.execute_reply.started": "2022-06-29T16:11:15.976323Z",
          "shell.execute_reply": "2022-06-29T16:11:15.982696Z"
        },
        "trusted": true,
        "colab": {
          "base_uri": "https://localhost:8080/"
        },
        "id": "8undniNlSqS2",
        "outputId": "eed26378-6e51-49d9-a306-85f1246acaf0"
      },
      "execution_count": 15,
      "outputs": [
        {
          "output_type": "execute_result",
          "data": {
            "text/plain": [
              "[3305, 13015, 13795, 20072, 20793, 23883, 31239, 34755]"
            ]
          },
          "metadata": {},
          "execution_count": 15
        }
      ]
    },
    {
      "cell_type": "markdown",
      "source": [
        "These questions look pretty unusable, so it should be okay to remove them. Plus, we are only removing less than 0.09% of all of the questions."
      ],
      "metadata": {
        "_cell_guid": "b1f618f0-8f3c-a150-159e-4dbd532b866a",
        "id": "MpFlL58CSqS2"
      }
    },
    {
      "cell_type": "code",
      "source": [
        "# Remove the invalid questions\n",
        "for index in invalid_questions:\n",
        "    df = df[df.id != index]\n",
        "    questions1.pop(index)\n",
        "    questions2.pop(index)\n",
        "\n",
        "# These questions are also unusable, but were not detected initially.\n",
        "# They were found when the function 'cosine_sim' stopped due to an error.\n",
        "unexpected_invalid_questions = [36460]#,42273,65937,304867,306828,353918] \n",
        "for index in unexpected_invalid_questions:\n",
        "    df = df[df.id != index]\n",
        "    questions1.pop(index)\n",
        "    questions2.pop(index)"
      ],
      "metadata": {
        "_cell_guid": "fa18ae1e-af6d-5cfd-4ca3-eafca2ca5a61",
        "execution": {
          "iopub.status.busy": "2022-06-29T16:11:19.394664Z",
          "iopub.execute_input": "2022-06-29T16:11:19.394998Z",
          "iopub.status.idle": "2022-06-29T16:11:19.440298Z",
          "shell.execute_reply.started": "2022-06-29T16:11:19.394940Z",
          "shell.execute_reply": "2022-06-29T16:11:19.439205Z"
        },
        "trusted": true,
        "id": "bFYZrC_sSqS2"
      },
      "execution_count": 16,
      "outputs": []
    },
    {
      "cell_type": "code",
      "source": [
        "# Use TfidfVectorizer() to transform the questions into vectors,\n",
        "# then compute their cosine similarity.\n",
        "vectorizer = TfidfVectorizer()\n",
        "def cosine_sim(text1, text2):\n",
        "    tfidf = vectorizer.fit_transform([text1, text2])\n",
        "    return ((tfidf * tfidf.T).A)[0,1]"
      ],
      "metadata": {
        "_cell_guid": "6702338b-04e5-c512-1186-d62a19c74715",
        "execution": {
          "iopub.status.busy": "2022-06-29T16:11:19.640836Z",
          "iopub.execute_input": "2022-06-29T16:11:19.641178Z",
          "iopub.status.idle": "2022-06-29T16:11:19.647559Z",
          "shell.execute_reply.started": "2022-06-29T16:11:19.641120Z",
          "shell.execute_reply": "2022-06-29T16:11:19.646465Z"
        },
        "trusted": true,
        "id": "771zpWIASqS3"
      },
      "execution_count": 17,
      "outputs": []
    },
    {
      "cell_type": "code",
      "source": [
        "Tfidf_scores = []\n",
        "for i in range(len(questions1)):\n",
        "    score = cosine_sim(questions1[i], questions2[i])\n",
        "    Tfidf_scores.append(score)\n",
        "    if i % 10000 == 0:\n",
        "        progress = i/len(questions1) * 100\n",
        "        print(\"Similarity Scores is {}% complete.\".format(round(progress,2)))"
      ],
      "metadata": {
        "_cell_guid": "756d9766-cdca-e491-88ab-4dfaf6a3f6b3",
        "execution": {
          "iopub.status.busy": "2022-06-29T16:11:19.870056Z",
          "iopub.execute_input": "2022-06-29T16:11:19.870357Z",
          "iopub.status.idle": "2022-06-29T16:12:34.626988Z",
          "shell.execute_reply.started": "2022-06-29T16:11:19.870318Z",
          "shell.execute_reply": "2022-06-29T16:12:34.626026Z"
        },
        "trusted": true,
        "colab": {
          "base_uri": "https://localhost:8080/"
        },
        "id": "xC4oVGYhSqS3",
        "outputId": "3607a6dc-7bba-41a0-9ed7-46c98833a9cc"
      },
      "execution_count": 18,
      "outputs": [
        {
          "output_type": "stream",
          "name": "stdout",
          "text": [
            "Similarity Scores is 0.0% complete.\n",
            "Similarity Scores is 25.01% complete.\n",
            "Similarity Scores is 50.01% complete.\n",
            "Similarity Scores is 75.02% complete.\n"
          ]
        }
      ]
    },
    {
      "cell_type": "code",
      "source": [
        "# Plot the scores\n",
        "plt.figure(figsize=(12,4))\n",
        "plt.hist(Tfidf_scores, bins = 200)\n",
        "plt.xlim(0,1)\n",
        "plt.show()"
      ],
      "metadata": {
        "_cell_guid": "b8ca24ce-7bad-6ddc-552e-986c35ead4e3",
        "execution": {
          "iopub.status.busy": "2022-06-29T16:12:34.629468Z",
          "iopub.execute_input": "2022-06-29T16:12:34.629796Z",
          "iopub.status.idle": "2022-06-29T16:12:35.449728Z",
          "shell.execute_reply.started": "2022-06-29T16:12:34.629741Z",
          "shell.execute_reply": "2022-06-29T16:12:35.448344Z"
        },
        "trusted": true,
        "colab": {
          "base_uri": "https://localhost:8080/",
          "height": 267
        },
        "id": "mJ1fG2beSqS3",
        "outputId": "3d7c1280-8ff7-4be0-f19a-6baa51132c9c"
      },
      "execution_count": 19,
      "outputs": [
        {
          "output_type": "display_data",
          "data": {
            "text/plain": [
              "<Figure size 864x288 with 1 Axes>"
            ],
            "image/png": "[encoded data removed]"
          },
          "metadata": {
            "needs_background": "light"
          }
        }
      ]
    },
    {
      "cell_type": "code",
      "source": [
        "# Function to report the quality of the model\n",
        "def performance_report(value, score_list):\n",
        "    # the value (0-1) is the cosine similarity score to determine if a pair of questions\n",
        "    # have the same meaning or not.\n",
        "    scores = []\n",
        "    for score in score_list:\n",
        "        if score >= value:\n",
        "            scores.append(1)\n",
        "        else:\n",
        "            scores.append(0)\n",
        "\n",
        "    accuracy = accuracy_score(df.is_duplicate, scores) * 100\n",
        "    print(\"Accuracy score is {}%.\".format(round(accuracy),1))\n",
        "    print()\n",
        "    print(\"Confusion Matrix:\")\n",
        "    print(confusion_matrix(df.is_duplicate, scores))\n",
        "    print()\n",
        "    print(\"Classification Report:\")\n",
        "    print(classification_report(df.is_duplicate, scores))"
      ],
      "metadata": {
        "_cell_guid": "85fc4149-21c5-6627-d484-675dbe158632",
        "execution": {
          "iopub.status.busy": "2022-06-29T16:12:35.451747Z",
          "iopub.execute_input": "2022-06-29T16:12:35.452327Z",
          "iopub.status.idle": "2022-06-29T16:12:35.465300Z",
          "shell.execute_reply.started": "2022-06-29T16:12:35.452083Z",
          "shell.execute_reply": "2022-06-29T16:12:35.464187Z"
        },
        "trusted": true,
        "id": "esNWsD3VSqS4"
      },
      "execution_count": 20,
      "outputs": []
    },
    {
      "cell_type": "code",
      "source": [
        "performance_report(0.52, Tfidf_scores)"
      ],
      "metadata": {
        "_cell_guid": "c8ebbe6f-96ee-6ff8-b9d2-f5583672c33d",
        "execution": {
          "iopub.status.busy": "2022-06-29T16:12:51.434381Z",
          "iopub.execute_input": "2022-06-29T16:12:51.435040Z",
          "iopub.status.idle": "2022-06-29T16:12:51.677021Z",
          "shell.execute_reply.started": "2022-06-29T16:12:51.434985Z",
          "shell.execute_reply": "2022-06-29T16:12:51.676150Z"
        },
        "trusted": true,
        "colab": {
          "base_uri": "https://localhost:8080/"
        },
        "id": "AY3P2M9VSqS4",
        "outputId": "789254ac-38e4-4865-a991-ba07c30a8140"
      },
      "execution_count": 21,
      "outputs": [
        {
          "output_type": "stream",
          "name": "stdout",
          "text": [
            "Accuracy score is 65%.\n",
            "\n",
            "Confusion Matrix:\n",
            "[[19163  5941]\n",
            " [ 8037  6850]]\n",
            "\n",
            "Classification Report:\n",
            "              precision    recall  f1-score   support\n",
            "\n",
            "           0       0.70      0.76      0.73     25104\n",
            "           1       0.54      0.46      0.49     14887\n",
            "\n",
            "    accuracy                           0.65     39991\n",
            "   macro avg       0.62      0.61      0.61     39991\n",
            "weighted avg       0.64      0.65      0.64     39991\n",
            "\n"
          ]
        }
      ]
    },
    {
      "cell_type": "markdown",
      "source": [
        "Using a threshold of 0.51 for the cosine similarity maximizes both the f1-score and accuracy. It's good to see that we are scoring better than the baseline value of 63.1% accuracy. I'm not too surprised that we didn't score much above the baseline accuracy, given the difficulty of this task."
      ],
      "metadata": {
        "_cell_guid": "ee1ed460-137c-5e3c-9ceb-c4806bd6ad57",
        "id": "9HNcJ13ESqS4"
      }
    },
    {
      "cell_type": "markdown",
      "source": [
        "## Method 2: Doc2Vec"
      ],
      "metadata": {
        "_cell_guid": "6633798e-9945-38d0-7dbd-82adf097c997",
        "id": "LgOfSOL9SqS5"
      }
    },
    {
      "cell_type": "code",
      "source": [
        "# Reset index to match the index values of questions1 and questions2\n",
        "df = df.reset_index()"
      ],
      "metadata": {
        "_cell_guid": "5ab44252-b52f-5d3b-3cd8-e1cf4d78bb12",
        "execution": {
          "iopub.status.busy": "2022-06-29T16:13:07.389529Z",
          "iopub.execute_input": "2022-06-29T16:13:07.389959Z",
          "iopub.status.idle": "2022-06-29T16:13:07.398937Z",
          "shell.execute_reply.started": "2022-06-29T16:13:07.389894Z",
          "shell.execute_reply": "2022-06-29T16:13:07.397872Z"
        },
        "trusted": true,
        "id": "BThsiDclSqS5"
      },
      "execution_count": 22,
      "outputs": []
    },
    {
      "cell_type": "code",
      "source": [
        "# Contains the processed questions for Doc2Vec\n",
        "questions_labeled = []\n",
        "\n",
        "for i in range(len(questions1)):\n",
        "    # Question strings need to be separated into words\n",
        "    # Each question needs a unique label\n",
        "    questions_labeled.append(LabeledSentence(questions1[i].split(), df[df.index == i].qid1))\n",
        "    questions_labeled.append(LabeledSentence(questions2[i].split(), df[df.index == i].qid2))\n",
        "    if i % 10000 == 0:\n",
        "        progress = i/len(questions1) * 100\n",
        "        print(\"{}% complete\".format(round(progress, 2)))"
      ],
      "metadata": {
        "_cell_guid": "21c0e29e-ccf0-86b9-33cf-4d20000b6e88",
        "execution": {
          "iopub.status.busy": "2022-06-29T16:13:08.481178Z",
          "iopub.execute_input": "2022-06-29T16:13:08.481844Z",
          "iopub.status.idle": "2022-06-29T16:13:58.897327Z",
          "shell.execute_reply.started": "2022-06-29T16:13:08.481789Z",
          "shell.execute_reply": "2022-06-29T16:13:58.895849Z"
        },
        "trusted": true,
        "colab": {
          "base_uri": "https://localhost:8080/"
        },
        "id": "4sJBphfeSqS5",
        "outputId": "42052937-6724-4e61-96a3-daa5fffbb1ed"
      },
      "execution_count": 23,
      "outputs": [
        {
          "output_type": "stream",
          "name": "stderr",
          "text": [
            "/usr/local/lib/python3.7/dist-packages/ipykernel_launcher.py:7: DeprecationWarning: Call to deprecated `LabeledSentence` (Class will be removed in 4.0.0, use TaggedDocument instead).\n",
            "  import sys\n",
            "/usr/local/lib/python3.7/dist-packages/ipykernel_launcher.py:8: DeprecationWarning: Call to deprecated `LabeledSentence` (Class will be removed in 4.0.0, use TaggedDocument instead).\n",
            "  \n"
          ]
        },
        {
          "output_type": "stream",
          "name": "stdout",
          "text": [
            "0.0% complete\n",
            "25.01% complete\n",
            "50.01% complete\n",
            "75.02% complete\n"
          ]
        }
      ]
    },
    {
      "cell_type": "code",
      "source": [
        "# Split questions for computing similarity and determining the lengths of the questions.\n",
        "questions1_split = []\n",
        "for question in questions1:\n",
        "    questions1_split.append(question.split())\n",
        "    \n",
        "questions2_split = []\n",
        "for question in questions2:\n",
        "    questions2_split.append(question.split())"
      ],
      "metadata": {
        "_cell_guid": "55bf95d8-fb0c-0646-3f22-65f2b0715a59",
        "execution": {
          "iopub.status.busy": "2022-06-29T16:14:04.316327Z",
          "iopub.execute_input": "2022-06-29T16:14:04.316687Z",
          "iopub.status.idle": "2022-06-29T16:14:04.480162Z",
          "shell.execute_reply.started": "2022-06-29T16:14:04.316625Z",
          "shell.execute_reply": "2022-06-29T16:14:04.478923Z"
        },
        "trusted": true,
        "id": "atuAWiHQSqS5"
      },
      "execution_count": 24,
      "outputs": []
    },
    {
      "cell_type": "code",
      "source": [
        "# Determine the length of questions to select more optimal parameters.\n",
        "lengths = []\n",
        "for i in range(len(questions1_split)):\n",
        "    lengths.append(len(questions1_split[i]))\n",
        "    lengths.append(len(questions2_split[i]))\n",
        "lengths = pd.DataFrame(lengths, columns=[\"count\"])"
      ],
      "metadata": {
        "_cell_guid": "c7eab291-dce2-a1b0-6934-38e3333eb0b6",
        "execution": {
          "iopub.status.busy": "2022-06-29T16:14:05.768122Z",
          "iopub.execute_input": "2022-06-29T16:14:05.768667Z",
          "iopub.status.idle": "2022-06-29T16:14:05.844139Z",
          "shell.execute_reply.started": "2022-06-29T16:14:05.768425Z",
          "shell.execute_reply": "2022-06-29T16:14:05.843337Z"
        },
        "trusted": true,
        "id": "NNIgUuHqSqS6"
      },
      "execution_count": 25,
      "outputs": []
    },
    {
      "cell_type": "code",
      "source": [
        "lengths['count'].describe()"
      ],
      "metadata": {
        "_cell_guid": "22a38b79-1a80-f5e6-4e0e-987e07aefd94",
        "execution": {
          "iopub.status.busy": "2022-06-29T16:14:07.099187Z",
          "iopub.execute_input": "2022-06-29T16:14:07.099696Z",
          "iopub.status.idle": "2022-06-29T16:14:07.117203Z",
          "shell.execute_reply.started": "2022-06-29T16:14:07.099644Z",
          "shell.execute_reply": "2022-06-29T16:14:07.116115Z"
        },
        "trusted": true,
        "colab": {
          "base_uri": "https://localhost:8080/"
        },
        "id": "eHmYeo2BSqS6",
        "outputId": "bea47bd6-f808-4a9d-cc44-12f52d7f89fc"
      },
      "execution_count": 26,
      "outputs": [
        {
          "output_type": "execute_result",
          "data": {
            "text/plain": [
              "count    79982.000000\n",
              "mean        11.288165\n",
              "std          6.161055\n",
              "min          1.000000\n",
              "25%          7.000000\n",
              "50%         10.000000\n",
              "75%         13.000000\n",
              "max        244.000000\n",
              "Name: count, dtype: float64"
            ]
          },
          "metadata": {},
          "execution_count": 26
        }
      ]
    },
    {
      "cell_type": "code",
      "source": [
        "# 99% of the questions include 18 or fewer words.\n",
        "np.percentile(lengths['count'], 99)"
      ],
      "metadata": {
        "_cell_guid": "42fd0045-7b6c-cb63-d5f3-fd6b8ac93805",
        "execution": {
          "iopub.status.busy": "2022-06-29T16:14:08.106428Z",
          "iopub.execute_input": "2022-06-29T16:14:08.106778Z",
          "iopub.status.idle": "2022-06-29T16:14:08.114625Z",
          "shell.execute_reply.started": "2022-06-29T16:14:08.106729Z",
          "shell.execute_reply": "2022-06-29T16:14:08.113759Z"
        },
        "trusted": true,
        "colab": {
          "base_uri": "https://localhost:8080/"
        },
        "id": "dt79XLPlSqS6",
        "outputId": "e6728519-b23d-4490-acdd-6a539a1deb8b"
      },
      "execution_count": 27,
      "outputs": [
        {
          "output_type": "execute_result",
          "data": {
            "text/plain": [
              "32.0"
            ]
          },
          "metadata": {},
          "execution_count": 27
        }
      ]
    },
    {
      "cell_type": "code",
      "source": [
        "# Build the model\n",
        "model = Doc2Vec(dm = 1, min_count=1, window=10, size=150, sample=1e-4, negative=10)\n",
        "model.build_vocab(questions_labeled)"
      ],
      "metadata": {
        "_cell_guid": "a854f9a1-967c-d8a2-0943-3616c90cde07",
        "execution": {
          "iopub.status.busy": "2022-06-29T16:14:09.365181Z",
          "iopub.execute_input": "2022-06-29T16:14:09.365734Z",
          "iopub.status.idle": "2022-06-29T16:14:49.577668Z",
          "shell.execute_reply.started": "2022-06-29T16:14:09.365686Z",
          "shell.execute_reply": "2022-06-29T16:14:49.576630Z"
        },
        "trusted": true,
        "colab": {
          "base_uri": "https://localhost:8080/"
        },
        "id": "rLPjM28hSqS6",
        "outputId": "99ddac70-d433-4a15-c1b6-43a672f338e6"
      },
      "execution_count": 28,
      "outputs": [
        {
          "output_type": "stream",
          "name": "stderr",
          "text": [
            "/usr/local/lib/python3.7/dist-packages/gensim/models/doc2vec.py:570: UserWarning: The parameter `size` is deprecated, will be removed in 4.0.0, use `vector_size` instead.\n",
            "  warnings.warn(\"The parameter `size` is deprecated, will be removed in 4.0.0, use `vector_size` instead.\")\n"
          ]
        }
      ]
    },
    {
      "cell_type": "code",
      "source": [
        "# Train the model\n",
        "# 20 epochs performs a bit better, but timed out when uploading\n",
        "#for epoch in range(5):\n",
        "#    model.train(questions_labeled)\n",
        "#    print(\"Epoch #{} is complete.\".format(epoch+1))\n",
        "model.train(questions_labeled, epochs=30, total_examples=model.corpus_count)"
      ],
      "metadata": {
        "_cell_guid": "59ed1462-7671-dac5-6cbb-aa4007b28061",
        "execution": {
          "iopub.status.busy": "2022-06-29T16:15:38.694524Z",
          "iopub.execute_input": "2022-06-29T16:15:38.694935Z",
          "iopub.status.idle": "2022-06-29T16:24:22.728049Z",
          "shell.execute_reply.started": "2022-06-29T16:15:38.694872Z",
          "shell.execute_reply": "2022-06-29T16:24:22.727018Z"
        },
        "trusted": true,
        "id": "AdcI6XNnSqS7"
      },
      "execution_count": 29,
      "outputs": []
    },
    {
      "cell_type": "code",
      "source": [
        "# Check a few terms to ensure the model was trained properly.\n",
        "model.most_similar('good')"
      ],
      "metadata": {
        "_cell_guid": "98a7e6d0-515f-aa3b-8e8b-0820ae010332",
        "execution": {
          "iopub.status.busy": "2022-06-29T16:27:00.133585Z",
          "iopub.execute_input": "2022-06-29T16:27:00.134169Z",
          "iopub.status.idle": "2022-06-29T16:27:00.176208Z",
          "shell.execute_reply.started": "2022-06-29T16:27:00.134104Z",
          "shell.execute_reply": "2022-06-29T16:27:00.173935Z"
        },
        "trusted": true,
        "colab": {
          "base_uri": "https://localhost:8080/"
        },
        "id": "D0hYdHcASqS7",
        "outputId": "8cb6985b-083d-47b6-83dd-e04df388f2f1"
      },
      "execution_count": 30,
      "outputs": [
        {
          "output_type": "stream",
          "name": "stderr",
          "text": [
            "/usr/local/lib/python3.7/dist-packages/ipykernel_launcher.py:2: DeprecationWarning: Call to deprecated `most_similar` (Method will be removed in 4.0.0, use self.wv.most_similar() instead).\n",
            "  \n"
          ]
        },
        {
          "output_type": "execute_result",
          "data": {
            "text/plain": [
              "[('best', 0.5416621565818787),\n",
              " ('recommend', 0.501295804977417),\n",
              " ('profession', 0.4891161322593689),\n",
              " ('better', 0.4731912612915039),\n",
              " ('easi', 0.43456488847732544),\n",
              " ('idea', 0.4276978075504303),\n",
              " ('suggest', 0.42558935284614563),\n",
              " ('bad', 0.4205717146396637),\n",
              " ('nice', 0.41197580099105835),\n",
              " ('student', 0.40301117300987244)]"
            ]
          },
          "metadata": {},
          "execution_count": 30
        }
      ]
    },
    {
      "cell_type": "code",
      "source": [
        "model.most_similar('peopl')"
      ],
      "metadata": {
        "_cell_guid": "58c1bf60-7a43-dd3d-12a6-52b3260a398a",
        "execution": {
          "iopub.status.busy": "2022-06-29T16:27:01.235828Z",
          "iopub.execute_input": "2022-06-29T16:27:01.236149Z",
          "iopub.status.idle": "2022-06-29T16:27:01.247539Z",
          "shell.execute_reply.started": "2022-06-29T16:27:01.236109Z",
          "shell.execute_reply": "2022-06-29T16:27:01.246628Z"
        },
        "trusted": true,
        "colab": {
          "base_uri": "https://localhost:8080/"
        },
        "id": "dmeHzw7xSqS7",
        "outputId": "9d93440e-2e8d-4c96-a07a-1e5fc7beb799"
      },
      "execution_count": 31,
      "outputs": [
        {
          "output_type": "stream",
          "name": "stderr",
          "text": [
            "/usr/local/lib/python3.7/dist-packages/ipykernel_launcher.py:1: DeprecationWarning: Call to deprecated `most_similar` (Method will be removed in 4.0.0, use self.wv.most_similar() instead).\n",
            "  \"\"\"Entry point for launching an IPython kernel.\n"
          ]
        },
        {
          "output_type": "execute_result",
          "data": {
            "text/plain": [
              "[('they', 0.6754144430160522),\n",
              " ('everyon', 0.6456407308578491),\n",
              " ('ignor', 0.6197558045387268),\n",
              " ('someon', 0.6155975461006165),\n",
              " ('women', 0.5939503312110901),\n",
              " ('quora', 0.5850074887275696),\n",
              " ('rude', 0.5835222601890564),\n",
              " ('everyth', 0.5747183561325073),\n",
              " ('them', 0.572660505771637),\n",
              " ('thing', 0.5687626004219055)]"
            ]
          },
          "metadata": {},
          "execution_count": 31
        }
      ]
    },
    {
      "cell_type": "code",
      "source": [
        "model.most_similar('book')"
      ],
      "metadata": {
        "_cell_guid": "661535d4-dcbd-5a35-c952-ddd6576f2e36",
        "execution": {
          "iopub.status.busy": "2022-06-29T16:27:01.638084Z",
          "iopub.execute_input": "2022-06-29T16:27:01.638380Z",
          "iopub.status.idle": "2022-06-29T16:27:01.650081Z",
          "shell.execute_reply.started": "2022-06-29T16:27:01.638344Z",
          "shell.execute_reply": "2022-06-29T16:27:01.648687Z"
        },
        "trusted": true,
        "colab": {
          "base_uri": "https://localhost:8080/"
        },
        "id": "tc5J1DpbSqS7",
        "outputId": "30bbb221-06ef-4d71-ac46-a427425bc92d"
      },
      "execution_count": 32,
      "outputs": [
        {
          "output_type": "stream",
          "name": "stderr",
          "text": [
            "/usr/local/lib/python3.7/dist-packages/ipykernel_launcher.py:1: DeprecationWarning: Call to deprecated `most_similar` (Method will be removed in 4.0.0, use self.wv.most_similar() instead).\n",
            "  \"\"\"Entry point for launching an IPython kernel.\n"
          ]
        },
        {
          "output_type": "execute_result",
          "data": {
            "text/plain": [
              "[('read', 0.662059485912323),\n",
              " ('newspap', 0.6377294063568115),\n",
              " ('fiction', 0.5819610953330994),\n",
              " ('novel', 0.5760827660560608),\n",
              " ('textbook', 0.5637032985687256),\n",
              " ('recommend', 0.5618439316749573),\n",
              " ('tensor', 0.5563332438468933),\n",
              " ('beginn', 0.5489552021026611),\n",
              " ('ncert', 0.5455508232116699),\n",
              " ('poetri', 0.5423944592475891)]"
            ]
          },
          "metadata": {},
          "execution_count": 32
        }
      ]
    },
    {
      "cell_type": "markdown",
      "source": [
        "These words have appropriate similar words, so I am pleased with the training."
      ],
      "metadata": {
        "_cell_guid": "a25c1e94-7b8b-ff9b-9d6d-141c3b416971",
        "id": "J0SwupKvSqS8"
      }
    },
    {
      "cell_type": "code",
      "source": [
        "doc2vec_scores = []\n",
        "for i in range(len(questions1_split)):\n",
        "    # n_similarity computes the cosine similarity in Doc2Vec\n",
        "    score = model.n_similarity(questions1_split[i],questions2_split[i])\n",
        "    doc2vec_scores.append(score)\n",
        "    if i % 10000 == 0:\n",
        "        progress = i/len(questions1_split) * 100\n",
        "        print(\"{}% complete.\".format(round(progress,2)))"
      ],
      "metadata": {
        "_cell_guid": "f96f6331-39f3-1ec8-6db4-a948c5aaa514",
        "execution": {
          "iopub.status.busy": "2022-06-29T16:27:03.007148Z",
          "iopub.execute_input": "2022-06-29T16:27:03.007434Z",
          "iopub.status.idle": "2022-06-29T16:27:08.639526Z",
          "shell.execute_reply.started": "2022-06-29T16:27:03.007399Z",
          "shell.execute_reply": "2022-06-29T16:27:08.638541Z"
        },
        "trusted": true,
        "colab": {
          "base_uri": "https://localhost:8080/"
        },
        "id": "X8f3GbT2SqS8",
        "outputId": "6b1682e9-5b1e-4beb-d2f9-0bf794610b51"
      },
      "execution_count": 33,
      "outputs": [
        {
          "output_type": "stream",
          "name": "stderr",
          "text": [
            "/usr/local/lib/python3.7/dist-packages/ipykernel_launcher.py:4: DeprecationWarning: Call to deprecated `n_similarity` (Method will be removed in 4.0.0, use self.wv.n_similarity() instead).\n",
            "  after removing the cwd from sys.path.\n"
          ]
        },
        {
          "output_type": "stream",
          "name": "stdout",
          "text": [
            "0.0% complete.\n",
            "25.01% complete.\n",
            "50.01% complete.\n",
            "75.02% complete.\n"
          ]
        }
      ]
    },
    {
      "cell_type": "code",
      "source": [
        "# Plot the scores\n",
        "plt.figure(figsize=(12,4))\n",
        "plt.hist(doc2vec_scores, bins = 200)\n",
        "plt.xlim(0,1)\n",
        "plt.show()"
      ],
      "metadata": {
        "_cell_guid": "c0085f3c-9682-334b-afae-eee818dd898f",
        "execution": {
          "iopub.status.busy": "2022-06-29T16:27:17.629015Z",
          "iopub.execute_input": "2022-06-29T16:27:17.629312Z",
          "iopub.status.idle": "2022-06-29T16:27:18.343266Z",
          "shell.execute_reply.started": "2022-06-29T16:27:17.629269Z",
          "shell.execute_reply": "2022-06-29T16:27:18.341981Z"
        },
        "trusted": true,
        "colab": {
          "base_uri": "https://localhost:8080/",
          "height": 265
        },
        "id": "v4hIgdVQSqS8",
        "outputId": "18380f3f-133a-4a80-931d-8e74d9578a4e"
      },
      "execution_count": 34,
      "outputs": [
        {
          "output_type": "display_data",
          "data": {
            "text/plain": [
              "<Figure size 864x288 with 1 Axes>"
            ],
            "image/png": "[encoded data removed]"
          },
          "metadata": {
            "needs_background": "light"
          }
        }
      ]
    },
    {
      "cell_type": "markdown",
      "source": [
        "It's interesting to see how Doc2Vec computes the pairs of questions to be more similar than TfidfVectorizer."
      ],
      "metadata": {
        "_cell_guid": "174deafd-6537-5da7-e576-b0ffc09d6406",
        "id": "tMWSYa34SqS8"
      }
    },
    {
      "cell_type": "code",
      "source": [
        "performance_report(0.92, doc2vec_scores)"
      ],
      "metadata": {
        "_cell_guid": "ef053598-9d46-f2de-3699-37efc3c13e56",
        "execution": {
          "iopub.status.busy": "2022-06-29T16:27:22.491553Z",
          "iopub.execute_input": "2022-06-29T16:27:22.491877Z",
          "iopub.status.idle": "2022-06-29T16:27:22.842611Z",
          "shell.execute_reply.started": "2022-06-29T16:27:22.491827Z",
          "shell.execute_reply": "2022-06-29T16:27:22.841671Z"
        },
        "trusted": true,
        "colab": {
          "base_uri": "https://localhost:8080/"
        },
        "id": "yJLuD-vlSqS9",
        "outputId": "477221d1-a8ac-4078-a61f-444dd1549ba5"
      },
      "execution_count": 35,
      "outputs": [
        {
          "output_type": "stream",
          "name": "stdout",
          "text": [
            "Accuracy score is 66%.\n",
            "\n",
            "Confusion Matrix:\n",
            "[[19502  5602]\n",
            " [ 8016  6871]]\n",
            "\n",
            "Classification Report:\n",
            "              precision    recall  f1-score   support\n",
            "\n",
            "           0       0.71      0.78      0.74     25104\n",
            "           1       0.55      0.46      0.50     14887\n",
            "\n",
            "    accuracy                           0.66     39991\n",
            "   macro avg       0.63      0.62      0.62     39991\n",
            "weighted avg       0.65      0.66      0.65     39991\n",
            "\n"
          ]
        }
      ]
    },
    {
      "cell_type": "markdown",
      "source": [
        "Using 0.92 as our threshold, we are able to score slightly higher with the Doc2Vec method. Accuracy is 2 percentage points higher and the f1-score increased by 0.01. Much like with TfidfVectorizer, it would have been nice to score higher, but this is by no means an easy challenge. Nonetheless, I hope that you have learned something from reading this and enjoyed this project as much as I did."
      ],
      "metadata": {
        "_cell_guid": "62ea90fd-d732-dd87-70f6-8e3bd54b1ad4",
        "id": "--lLk3k_SqS9"
      }
    },
    {
      "cell_type": "code",
      "source": [
        ""
      ],
      "metadata": {
        "_cell_guid": "a3c872d9-df0d-00e4-8a8b-655c51b11717",
        "id": "v501setdSqS9"
      },
      "execution_count": null,
      "outputs": []
    }
  ]
}