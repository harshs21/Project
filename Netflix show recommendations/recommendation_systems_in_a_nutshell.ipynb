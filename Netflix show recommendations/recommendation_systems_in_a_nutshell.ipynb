{
  "nbformat": 4,
  "nbformat_minor": 0,
  "metadata": {
    "kernelspec": {
      "language": "python",
      "display_name": "Python 3",
      "name": "python3"
    },
    "language_info": {
      "pygments_lexer": "ipython3",
      "nbconvert_exporter": "python",
      "version": "3.6.4",
      "file_extension": ".py",
      "codemirror_mode": {
        "name": "ipython",
        "version": 3
      },
      "name": "python",
      "mimetype": "text/x-python"
    },
    "colab": {
      "name": "recommendation-systems-in-a-nutshell.ipynb",
      "provenance": []
    }
  },
  "cells": [
    {
      "cell_type": "markdown",
      "metadata": {
        "_uuid": "d629ff2d2480ee46fbb7e2d37f6b5fab8052498a",
        "collapsed": true,
        "_cell_guid": "79c7e3d0-c299-4dcb-8224-4455121ee9b0",
        "trusted": false,
        "id": "cLr8eX5mXUOH"
      },
      "source": [
        "# Recommendation Systems"
      ]
    },
    {
      "cell_type": "markdown",
      "metadata": {
        "id": "ztOQTMfyXUOL"
      },
      "source": [
        "![Recommend GIF](https://media.giphy.com/media/3o6MbsRPT4UmZ70IsU/giphy.gif)"
      ]
    },
    {
      "cell_type": "markdown",
      "metadata": {
        "id": "YfmM-ztlXUON"
      },
      "source": [
        "How does Netflix know what shows you may like? How does Youtube suggest videos on your homepage that 80% of the time you are inclined to click on and watch? It's all because of recommendation systems. To explain it in the most basic terminology,recommendation systems are programs or softwares that take your interests in consideration and suggest or recommend products that you may end up liking."
      ]
    },
    {
      "cell_type": "markdown",
      "metadata": {
        "id": "ImElaK9CXUOP"
      },
      "source": [
        "![MADE WITH ♥](https://forthebadge.com/images/badges/built-with-love.svg)\n",
        "As an appetizer, here's a [product recommendation system prototype](https://productrecom-n.herokuapp.com/). Click on the images to get recommendations. This is an application that recommends products using transfer learning. Amazon, Flipkart use such recommenders."
      ]
    },
    {
      "cell_type": "markdown",
      "metadata": {
        "id": "h59fQgckXUOV"
      },
      "source": [
        "## Importance of recommendation systems\n",
        "\n",
        "* They help in discovering content that you may possibly like but didn't know existed.\n",
        "* They create personalized list of options for your viewing.\n",
        "* Help in discovering popular content.\n",
        "* They can make you watch/read/listen to content that is not really into your domain but you may end up liking it and discovering an all new domain that you like.\n",
        "* If you are a creator, recommendation systems can you give you a brief overview about your audience."
      ]
    },
    {
      "cell_type": "markdown",
      "metadata": {
        "id": "5X7hJ8-pXUOb"
      },
      "source": [
        "# Architecture of Recommendation systems"
      ]
    },
    {
      "cell_type": "markdown",
      "metadata": {
        "id": "cg_lOp06XUOf"
      },
      "source": [
        "![image.png](attachment:image.png)"
      ]
    },
    {
      "cell_type": "markdown",
      "metadata": {
        "id": "HY_w_wQuXUOh"
      },
      "source": [
        "**Candidate generation**:\n",
        "    Usually a large corpus of data is available but it has a smaller number of candidates or categories.Generation and differentitation of these categories is the first step of building the recommendation system.\n",
        "    \n",
        "    \n",
        "**Scoring**:\n",
        "    Scoring is the model that creates subsets and ranks the categories to be displayed to the user. The customization of scoring of categories can be done using conditions or queries.\n",
        "    \n",
        "    \n",
        "**Re-ranking**:\n",
        "    The final step, re-ranking considers all available constraints and removes unwanted or low-scoring recommendations. Re-ranking is extremely important as it filters all unnecessary items.\n",
        "    "
      ]
    },
    {
      "cell_type": "markdown",
      "metadata": {
        "id": "1TnFWTgQXUOi"
      },
      "source": [
        "# Did you know?\n",
        "\n",
        "About 35% purchases made from amazon are from recommendation systems."
      ]
    },
    {
      "cell_type": "code",
      "metadata": {
        "trusted": true,
        "id": "WFwJEPqHXUOk"
      },
      "source": [
        "import plotly.graph_objects as go\n",
        "import plotly.offline as py\n",
        "autosize =False\n",
        "\n",
        "\n",
        "# Use `hole` to create a donut-like pie chart\n",
        "values=[35, 65]\n",
        "labels=['Recommended Purchases',\"Original Purchases\"]\n",
        "fig = go.Figure(data=[go.Pie(labels=labels, values=values, hole=.3)])\n",
        "fig.update_traces(hoverinfo='label+percent', textinfo='value',textfont_size=15,\n",
        "                  marker=dict(colors=['#00008b','#000'], line=dict(color='#FFFFFF', width=2.5)))\n",
        "fig.update_layout(\n",
        "    title='Recommended Purchases VS Original')\n",
        "py.iplot(fig)"
      ],
      "execution_count": null,
      "outputs": []
    },
    {
      "cell_type": "markdown",
      "metadata": {
        "id": "Xcc9tJQqXUO0"
      },
      "source": [
        "# Types\n",
        "\n",
        "1. Content based recommendation systems:\n",
        "\n",
        "\n",
        "Content based recommendation systems focus on properties of items.These recommendation systems use features between the given items and find similarities between them as a measure for giving recommendations.For example, if a user likes the first installment of The Harry Potter movies, the recommendation system will probably recommended all the other installments. Another example can be the recommendation of a 20 min workout video on youtube because you have watched a 10 min workout video posted by the same creator.User reviews are not required in this type.\n",
        "2. Collaborative filtering recommendation systems:\n",
        "\n",
        "\n",
        "On the other hand, systems focus on the relationship between users and items. These models require user reviews as they play a key role in scoring.Collaborative filtering models can recommend an item to user A based on the interests of a similar user B. User's previous history is also taken into consideration. For example, recommendation of a crime tv series to user A because user B who has watched similar shows as of User A has reviewed the crime series. "
      ]
    },
    {
      "cell_type": "markdown",
      "metadata": {
        "id": "XCUiF4eyXUO2"
      },
      "source": [
        "# Content based recommendation systems"
      ]
    },
    {
      "cell_type": "markdown",
      "metadata": {
        "trusted": true,
        "id": "IMiJUw2NXUO4"
      },
      "source": [
        "Item profiles:\n",
        "\n",
        "In content based recommendation systems, each item has a profile. In most cases, profiles contain characteristics of the item that are easily available or discovered.\n",
        "For example, these features can be used in profiles of movies/tv shows on netflix.\n",
        "* Title\n",
        "* Actors in the movie/tv show\n",
        "* Director\n",
        "* Genre\n",
        "* Plot/Storyline"
      ]
    },
    {
      "cell_type": "markdown",
      "metadata": {
        "id": "Cg7EiZFdXUO7"
      },
      "source": [
        "****Representing Item Profiles****\n",
        "\n",
        "The ultimate goal in content based recommendation systems, is creating an item profile. Here, the TF-IDF Concept comes into picture.\n",
        "\n",
        "TF-IDF:\n",
        "TF-IDF (term frequency-inverse document frequency) is a statistical measure that evaluates how relevant a word is to a document in a collection of documents. It was originally developed for document search and information retrieval.But, over the years, it is used in recommendation systems and machine learning models too.\n",
        "\n",
        "How does TF-IDF work?\n",
        "It calculates term frequency of a word in a document."
      ]
    },
    {
      "cell_type": "markdown",
      "metadata": {
        "trusted": true,
        "id": "5YxcVMujXUO9"
      },
      "source": [
        "\n",
        "![CHECK IT OUT](https://forthebadge.com/images/badges/check-it-out.svg)\n",
        "For a hands-on implementation of content based recommendation systems using the TF-IDF vectorizer method, [Click here](https://www.kaggle.com/niharika41298/netflix-visualizations-recommendation-eda#Recommendation-System-(Content-Based))"
      ]
    },
    {
      "cell_type": "markdown",
      "metadata": {
        "id": "3GY-M2ptXUO_"
      },
      "source": [
        "Ever wondered how ecommerce websites use recommendation systems to show you similar sets of items? [Click here ](https://productrecom-n.herokuapp.com/) for a small model or working prototype of the product recommendations by ecommerce websites."
      ]
    },
    {
      "cell_type": "markdown",
      "metadata": {
        "id": "y8HPwp_XXUPB"
      },
      "source": [
        "# Collaborative Filtering "
      ]
    },
    {
      "cell_type": "markdown",
      "metadata": {
        "id": "e9Rai2n-XUPD"
      },
      "source": [
        "This is a significantly different approach to recommendation.\n",
        "Instead of using features of items to determine their similarity, we focus on the\n",
        "similarity of the user ratings for two items. That is, in place of the item-profile\n",
        "vector for an item, we use its column in the utility matrix."
      ]
    },
    {
      "cell_type": "markdown",
      "metadata": {
        "id": "SChuIHbvXUPF"
      },
      "source": [
        "## Measuring Similarity"
      ]
    },
    {
      "cell_type": "markdown",
      "metadata": {
        "id": "JjXUF_y6XUPH"
      },
      "source": [
        "The first question we must deal with is how to measure similarity of users or\n",
        "items from their rows or columns in the utility matrix. Utility matrix is the matrix where rows represent user ratings or any such feature and columns represent movie/items."
      ]
    },
    {
      "cell_type": "markdown",
      "metadata": {
        "id": "9V_XbT14XUPI"
      },
      "source": [
        "Consider the following utility matrix:\n",
        "![image.png](attachment:image.png)"
      ]
    },
    {
      "cell_type": "markdown",
      "metadata": {
        "id": "Eh2oXh68XUPL"
      },
      "source": [
        "Here A,B,C,D are the users and the column headers are the movies.The values in the matrix denote ratings."
      ]
    },
    {
      "cell_type": "markdown",
      "metadata": {
        "id": "_vB3LLBgXUPO"
      },
      "source": [
        "Cosine similarity is finding the cosine distance between two users. It is similar to dot product of two vectors. Blanks are treated as 0.\n",
        "![COS](https://i.stack.imgur.com/36r1U.png)"
      ]
    },
    {
      "cell_type": "markdown",
      "metadata": {
        "id": "o_SQJ3lCXUPT"
      },
      "source": [
        "Let us calculate similarity between User A and User B:\n",
        "\n",
        "cos angle between A and B= ((4*3)+(5*4))/sqrt(4^2+5^2+2^2)*sqrt(3^2+5^2+4^2+1^2)\n",
        "\n",
        "This is how cosine similarity is calculated. After calculating the cosine similarites, an algorithm like Kmeans or Decision tree can be applied to the data to get the nearest neighbors as recommendations."
      ]
    },
    {
      "cell_type": "markdown",
      "metadata": {
        "trusted": true,
        "id": "WF7ZMqJ7XUPW"
      },
      "source": [
        "For a hands-on implementation on collaborative filtering, [CLICK HERE](https://www.kaggle.com/niharika41298/netflix-or-books-recommender-analysis-eda#2.-Collaborative-Filtering)"
      ]
    },
    {
      "cell_type": "markdown",
      "metadata": {
        "id": "fDkGWM-GXUPY"
      },
      "source": [
        "# Hybrid recommendation systems."
      ]
    },
    {
      "cell_type": "markdown",
      "metadata": {
        "id": "Wx4QG_z_XUPa"
      },
      "source": [
        "A hybrid recommender is a special kind of recommender that uses both collaborative and content based filtering for making recommendations."
      ]
    },
    {
      "cell_type": "markdown",
      "metadata": {
        "id": "67Ei4kcaXUPd"
      },
      "source": [
        "## Fact:\n",
        "75% of what people are watching on Netflix comes from recommendations, according to McKinsey and Recommendations are responsible for 70% of the time people spend watching videos on YouTube.\n"
      ]
    },
    {
      "cell_type": "code",
      "metadata": {
        "trusted": true,
        "id": "Dt27H3VSXUPe"
      },
      "source": [
        "# Use `hole` to create a donut-like pie chart\n",
        "values=[75, 25]\n",
        "labels=['Recommended Content',\"Originals\"]\n",
        "fig = go.Figure(data=[go.Pie(labels=labels, values=values, hole=.3)])\n",
        "fig.update_traces(hoverinfo='label+percent', textinfo='value',textfont_size=15,\n",
        "                  marker=dict(colors=['#DAA520','#800000'], line=dict(color='#FFFFFF', width=2.5)))\n",
        "fig.update_layout(\n",
        "    title='Recommended Views VS Original')\n",
        "austosize=False\n",
        "py.iplot(fig)"
      ],
      "execution_count": null,
      "outputs": []
    },
    {
      "cell_type": "markdown",
      "metadata": {
        "id": "KUrASe6YXUPs"
      },
      "source": [
        "# LightFM Hybrid recommender"
      ]
    },
    {
      "cell_type": "markdown",
      "metadata": {
        "id": "pFlh9TljXUPu"
      },
      "source": [
        "LightFM is a Python implementation of a number of popular recommendation algorithms for both implicit and explicit feedback.\n",
        "\n",
        "It also makes it possible to incorporate both item and user metadata into the traditional matrix factorization algorithms.\n",
        "\n",
        "The below implementation is using the pre-existing dataset of movielens provided by LIGHTFM libraries."
      ]
    },
    {
      "cell_type": "code",
      "metadata": {
        "trusted": true,
        "id": "nRsWpjLRXUPw"
      },
      "source": [
        "import numpy as np\n",
        "from lightfm.data import Dataset\n",
        "from lightfm import LightFM\n",
        "from lightfm.evaluation import precision_at_k\n",
        "from lightfm.evaluation import auc_score\n",
        "from lightfm.datasets import fetch_movielens\n",
        "from lightfm.cross_validation import random_train_test_split\n",
        "from scipy.sparse import coo_matrix as sp"
      ],
      "execution_count": null,
      "outputs": []
    },
    {
      "cell_type": "code",
      "metadata": {
        "trusted": true,
        "id": "UF1MuJzKXUP5"
      },
      "source": [
        "data = fetch_movielens(min_rating = 4.0)"
      ],
      "execution_count": null,
      "outputs": []
    },
    {
      "cell_type": "markdown",
      "metadata": {
        "id": "E0RBf9wLXUQC"
      },
      "source": [
        "Only using movies with ratings above 4.0"
      ]
    },
    {
      "cell_type": "code",
      "metadata": {
        "trusted": true,
        "id": "hqJKUfiOXUQE"
      },
      "source": [
        "print(repr(data['train']))\n",
        "print(repr(data['test']))"
      ],
      "execution_count": null,
      "outputs": []
    },
    {
      "cell_type": "code",
      "metadata": {
        "trusted": true,
        "id": "MNQs0r7TXUQQ"
      },
      "source": [
        "model = LightFM(loss = 'warp')"
      ],
      "execution_count": null,
      "outputs": []
    },
    {
      "cell_type": "code",
      "metadata": {
        "trusted": true,
        "id": "UjIR4WymXUQb"
      },
      "source": [
        "model.fit(data[\"train\"], epochs=30, num_threads=2)"
      ],
      "execution_count": null,
      "outputs": []
    },
    {
      "cell_type": "code",
      "metadata": {
        "trusted": true,
        "id": "cIslzmKTXUQj"
      },
      "source": [
        "def sample_recommendation(model, data, user_ids):\n",
        "    n_users, n_items = data['train'].shape\n",
        "    for user_id in user_ids:\n",
        "        known_positives = data['item_labels'][data['train'].tocsr()                                    \n",
        "                          [user_id].indices]\n",
        "        \n",
        "        scores = model.predict(user_id, np.arange(n_items))\n",
        "\n",
        "        top_items = data['item_labels'][np.argsort(-scores)]\n",
        "\n",
        "        print(\"User %s\" % user_id)\n",
        "        print(\"     Known positives:\")\n",
        "        \n",
        "        for x in known_positives[:3]:\n",
        "            print(\"        %s\" % x)\n",
        "        \n",
        "        print(\"     Recommended:\")\n",
        "        \n",
        "        for x in top_items[:3]:\n",
        "            print(\"        %s\" % x)"
      ],
      "execution_count": null,
      "outputs": []
    },
    {
      "cell_type": "markdown",
      "metadata": {
        "id": "VFAL0qCJXUQp"
      },
      "source": [
        "Creating a recommendation function to recommend 3 movies based on known positives."
      ]
    },
    {
      "cell_type": "code",
      "metadata": {
        "trusted": true,
        "id": "vVoCdnzoXUQr"
      },
      "source": [
        "sample_recommendation(model, data, [6, 25, 451])"
      ],
      "execution_count": null,
      "outputs": []
    },
    {
      "cell_type": "markdown",
      "metadata": {
        "id": "NhyWOS_IXUQw"
      },
      "source": [
        "Generating recommendations ^"
      ]
    },
    {
      "cell_type": "markdown",
      "metadata": {
        "id": "d5rAEyU7XUQx"
      },
      "source": [
        "This is very easy as the dataset is already provided by lightFM."
      ]
    },
    {
      "cell_type": "markdown",
      "metadata": {
        "id": "MXF1TN-7XUQy"
      },
      "source": [
        "## LightFM for the goodreads books dataset"
      ]
    },
    {
      "cell_type": "code",
      "metadata": {
        "trusted": true,
        "id": "sWdL0BBCXUQz"
      },
      "source": [
        "import pandas as pd\n",
        "import numpy as np"
      ],
      "execution_count": null,
      "outputs": []
    },
    {
      "cell_type": "code",
      "metadata": {
        "trusted": true,
        "id": "U9PlXx3GXUQ3"
      },
      "source": [
        "books=pd.read_csv(\"../input/goodbooks-10k-updated/books.csv\")"
      ],
      "execution_count": null,
      "outputs": []
    },
    {
      "cell_type": "markdown",
      "metadata": {
        "id": "phN8YBXQXUQ9"
      },
      "source": [
        "Some Data exploration before getting recommendations is always a good idea."
      ]
    },
    {
      "cell_type": "code",
      "metadata": {
        "trusted": true,
        "id": "CGhf-37TXUQ_"
      },
      "source": [
        "books"
      ],
      "execution_count": null,
      "outputs": []
    },
    {
      "cell_type": "code",
      "metadata": {
        "trusted": true,
        "id": "L7vscfIyXURD"
      },
      "source": [
        "import plotly.express as px\n",
        "import seaborn as sns\n",
        "import matplotlib.pyplot as plt\n",
        "plt.figure(figsize=(16,8))\n",
        "sns.distplot(a=books['average_rating'], kde=True, color='r')"
      ],
      "execution_count": null,
      "outputs": []
    },
    {
      "cell_type": "code",
      "metadata": {
        "trusted": true,
        "id": "k7OiJVdiXURG"
      },
      "source": [
        "dropna= books.dropna()\n",
        "fig = px.treemap(dropna, path=['original_publication_year','language_code', \"average_rating\"],\n",
        "                  color='average_rating')\n",
        "fig.show()"
      ],
      "execution_count": null,
      "outputs": []
    },
    {
      "cell_type": "code",
      "metadata": {
        "trusted": true,
        "id": "fOi5zastXURJ"
      },
      "source": [
        "fig = px.line(books, y=\"books_count\", x=\"average_rating\", title='Book Count VS Average Rating')\n",
        "fig.show()"
      ],
      "execution_count": null,
      "outputs": []
    },
    {
      "cell_type": "code",
      "metadata": {
        "trusted": true,
        "id": "SODt-iY-XURM"
      },
      "source": [
        "books.columns"
      ],
      "execution_count": null,
      "outputs": []
    },
    {
      "cell_type": "markdown",
      "metadata": {
        "id": "f45lzHg_XURQ"
      },
      "source": [
        "Only selecting important columns."
      ]
    },
    {
      "cell_type": "code",
      "metadata": {
        "trusted": true,
        "id": "N8Ea-NqUXURR"
      },
      "source": [
        "books_metadata_selected = books[['book_id', 'average_rating', \n",
        "'original_publication_year', 'ratings_count', 'language_code']]\n",
        "books_metadata_selected"
      ],
      "execution_count": null,
      "outputs": []
    },
    {
      "cell_type": "markdown",
      "metadata": {
        "id": "ssAEL45TXURW"
      },
      "source": [
        "## Pandas Profiler\n",
        " \n",
        " Pandas Profiler gives us a summary of the dataset without writing any code. It behaves like the .describe() function.\n",
        " Shown below is a sample report. Let us try and generate a sample report for our dataset.\n",
        " \n",
        "![Pandas](https://miro.medium.com/max/1834/1*98WxRgNtUo026F65XTFz1A.png) "
      ]
    },
    {
      "cell_type": "markdown",
      "metadata": {
        "id": "ATweif7lXURY"
      },
      "source": [
        "Running it through pandas profiler to understand the data and gather exploratory details. Generates profile reports from a pandas DataFrame. The pandas df.describe() function is great but a little basic for serious exploratory data analysis. pandas_profiling extends the pandas DataFrame with df.profile_report() for quick data analysis."
      ]
    },
    {
      "cell_type": "code",
      "metadata": {
        "trusted": true,
        "id": "Emjr4KXoXURa"
      },
      "source": [
        "import pandas_profiling\n",
        "\n",
        "books_metadata_selected.replace('', np.nan, inplace=True)\n",
        "profile = pandas_profiling.ProfileReport(books_metadata_selected[['average_rating',\n",
        "                                                                  'original_publication_year', 'ratings_count']])\n",
        "profile"
      ],
      "execution_count": null,
      "outputs": []
    },
    {
      "cell_type": "markdown",
      "metadata": {
        "id": "E9mDGzjoXURf"
      },
      "source": [
        "From the above report it is clear that original_publication_year has missing values which need to be removed."
      ]
    },
    {
      "cell_type": "code",
      "metadata": {
        "trusted": true,
        "id": "xMI3xpBxXURg"
      },
      "source": [
        "#rounding the average rating to nearest 0.5 score\n",
        "books_metadata_selected['average_rating'] = books_metadata_selected['average_rating'].apply(lambda x: round(x*2)/2)\n",
        "\n",
        "#replacing missing values to the year \n",
        "books_metadata_selected['original_publication_year'].replace(np.nan, 2100, inplace=True)"
      ],
      "execution_count": null,
      "outputs": []
    },
    {
      "cell_type": "code",
      "metadata": {
        "trusted": true,
        "id": "4rsyeHSfXURl"
      },
      "source": [
        "# using pandas qcut method to convert fields into quantile-based discrete intervals\n",
        "books_metadata_selected['ratings_count'] = pd.qcut(books_metadata_selected['ratings_count'], 25)"
      ],
      "execution_count": null,
      "outputs": []
    },
    {
      "cell_type": "code",
      "metadata": {
        "trusted": true,
        "id": "nlsAYidXXURp"
      },
      "source": [
        "profile = pandas_profiling.ProfileReport(books_metadata_selected[['average_rating',\n",
        "                                                                  'original_publication_year', 'ratings_count']])\n",
        "profile"
      ],
      "execution_count": null,
      "outputs": []
    },
    {
      "cell_type": "code",
      "metadata": {
        "trusted": true,
        "id": "1ye80wmqXURs"
      },
      "source": [
        "#importing ratings data for creating utility matrix\n",
        "interactions=pd.read_csv(\"../input/goodbooks-10k-updated/ratings.csv\")"
      ],
      "execution_count": null,
      "outputs": []
    },
    {
      "cell_type": "code",
      "metadata": {
        "trusted": true,
        "id": "yZuU1T8NXURw"
      },
      "source": [
        "from scipy.sparse import *\n",
        "from scipy import *\n",
        "item_dict ={}\n",
        "df = books[['book_id', 'original_title']].sort_values('book_id').reset_index()\n",
        "for i in range(df.shape[0]):\n",
        "    item_dict[(df.loc[i,'book_id'])] = df.loc[i,'original_title']\n",
        "# dummify categorical features\n",
        "books_metadata_selected_transformed = pd.get_dummies(books_metadata_selected, columns = ['average_rating','original_publication_year', 'ratings_count', 'language_code'])\n",
        "books_metadata_selected_transformed = books_metadata_selected_transformed.sort_values('book_id').reset_index().drop('index', axis=1)\n",
        "books_metadata_selected_transformed.head(5)\n",
        "# convert to csr matrix\n",
        "books_metadata_csr = csr_matrix(books_metadata_selected_transformed.drop('book_id', axis=1).values)"
      ],
      "execution_count": null,
      "outputs": []
    },
    {
      "cell_type": "markdown",
      "metadata": {
        "id": "_PU8cQhFXUR1"
      },
      "source": [
        "Therefore , we now have a csr(compressed sparse row)matrix for selected columns from the ratings file. CSR matrices are basically one hot encodings for a dataframe."
      ]
    },
    {
      "cell_type": "code",
      "metadata": {
        "trusted": true,
        "id": "-x_xB_BSXUR2"
      },
      "source": [
        "user_book_interaction = pd.pivot_table(interactions, index='user_id', columns='book_id', values='rating')\n",
        "# fill missing values with 0\n",
        "user_book_interaction = user_book_interaction.fillna(0)\n",
        "user_id = list(user_book_interaction.index)\n",
        "user_dict = {}\n",
        "counter = 0 \n",
        "for i in user_id:\n",
        "    user_dict[i] = counter\n",
        "    counter += 1\n",
        "# convert to csr matrix\n",
        "user_book_interaction_csr = csr_matrix(user_book_interaction.values)\n",
        "user_book_interaction_csr"
      ],
      "execution_count": null,
      "outputs": []
    },
    {
      "cell_type": "markdown",
      "metadata": {
        "id": "b08K2X5xXUR5"
      },
      "source": [
        "### Creating LSTM model "
      ]
    },
    {
      "cell_type": "code",
      "metadata": {
        "trusted": true,
        "id": "qVqngCH9XUR6"
      },
      "source": [
        "model = LightFM(loss='warp',\n",
        "                random_state=2016,\n",
        "                learning_rate=0.90,\n",
        "                no_components=150,\n",
        "                user_alpha=0.000005)\n",
        "model = model.fit(user_book_interaction_csr,\n",
        "                  epochs=5,\n",
        "                  num_threads=16, verbose=False)"
      ],
      "execution_count": null,
      "outputs": []
    },
    {
      "cell_type": "markdown",
      "metadata": {
        "id": "am9ItTOsXUR9"
      },
      "source": [
        "Number of epochs can affect the running time and also precision."
      ]
    },
    {
      "cell_type": "markdown",
      "metadata": {
        "id": "x8JME9PdXUR-"
      },
      "source": [
        "Recommendations function that maps the user IDs to their titles and generates recommendations using the LSTM model."
      ]
    },
    {
      "cell_type": "code",
      "metadata": {
        "trusted": true,
        "id": "UHbqtdSdXUR_"
      },
      "source": [
        "def sample_recommendation_user(model, interactions, user_id, user_dict, \n",
        "                               item_dict,threshold = 0,nrec_items = 5, show = True):\n",
        "    \n",
        "    n_users, n_items = interactions.shape\n",
        "    user_x = user_dict[user_id]\n",
        "    scores = pd.Series(model.predict(user_x,np.arange(n_items), item_features=books_metadata_csr))\n",
        "    scores.index = interactions.columns\n",
        "    scores = list(pd.Series(scores.sort_values(ascending=False).index))\n",
        "    \n",
        "    known_items = list(pd.Series(interactions.loc[user_id,:] \\\n",
        "                                 [interactions.loc[user_id,:] > threshold].index).sort_values(ascending=False))\n",
        "    \n",
        "    scores = [x for x in scores if x not in known_items]\n",
        "    return_score_list = scores[0:nrec_items]\n",
        "    known_items = list(pd.Series(known_items).apply(lambda x: item_dict[x]))\n",
        "    scores = list(pd.Series(return_score_list).apply(lambda x: item_dict[x]))\n",
        "    if show == True:\n",
        "        print (\"User: \" + str(user_id))\n",
        "        print(\"Known Likes:\")\n",
        "        counter = 1\n",
        "        for i in known_items:\n",
        "            print(str(counter) + '- ' + str(i))\n",
        "            counter+=1\n",
        "    print(\"\\n Recommended Items:\")\n",
        "    counter = 1\n",
        "    for i in scores:\n",
        "        print(i)\n",
        "        print(str(counter) + '- ' + i)\n",
        "        counter+=1"
      ],
      "execution_count": null,
      "outputs": []
    },
    {
      "cell_type": "code",
      "metadata": {
        "trusted": true,
        "id": "_OsLbgnlXUSD"
      },
      "source": [
        "sample_recommendation_user(model, user_book_interaction, 5, user_dict, item_dict)"
      ],
      "execution_count": null,
      "outputs": []
    },
    {
      "cell_type": "code",
      "metadata": {
        "trusted": true,
        "id": "qpvu8gZmXUSH"
      },
      "source": [
        "sample_recommendation_user(model, user_book_interaction, 500, user_dict, item_dict)"
      ],
      "execution_count": null,
      "outputs": []
    },
    {
      "cell_type": "markdown",
      "metadata": {
        "id": "q-6lp0qgXUSK"
      },
      "source": [
        "Thence, the models works pretty well. It generates recommendations according to the score.\n",
        "\n",
        "This model was a good change from the traditional collaborative and content based filtering and may give precise results if trained and deployed."
      ]
    },
    {
      "cell_type": "markdown",
      "metadata": {
        "id": "kHHwnHTfXUSL"
      },
      "source": [
        "# Conclusion\n",
        "\n",
        "\n",
        "Although there are tons of implementations of recommendation systems on the Internet, all are very confusing. Therefore this notebook is just a simple guide or representation to learn about them. Content based, Collaborative and Hybrid recommendation systems are successfully implemented. Content based recommendations are easy to implement but lack precision. On the other hand, collaborative filtering is a tad bit difficult to implement but gives better results. The LightFM model is a good option too, but i think it is just a complicated implementation of collaborative filtering."
      ]
    },
    {
      "cell_type": "markdown",
      "metadata": {
        "id": "chy0C86kXUSM"
      },
      "source": [
        "## References:\n",
        "\n",
        "1. Mining of Massive Datasets,Book by Anand Rajaraman and Jeffrey Ullman.\n",
        "2. [ Google's mini-course](https://developers.google.com/machine-learning/recommendation)\n",
        "3. [A very helpful post](https://towardsdatascience.com/recommendation-system-in-python-lightfm-61c85010ce17)\n",
        "4. [LightFM Documentation](https://making.lyst.com/lightfm/docs/home.html)"
      ]
    }
  ]
}